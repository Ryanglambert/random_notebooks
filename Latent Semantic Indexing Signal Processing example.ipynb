{
 "cells": [
  {
   "cell_type": "markdown",
   "metadata": {},
   "source": [
    "This is a companion notebook to my blog post here: \n",
    "http://www.ryanglambert.com/blog/latent-semantic-indexing-how-i-built-pubmatchco"
   ]
  },
  {
   "cell_type": "code",
   "execution_count": 15,
   "metadata": {
    "collapsed": false
   },
   "outputs": [],
   "source": [
    "import numpy as np\n",
    "import scipy as sp\n",
    "import matplotlib.pyplot as plt\n",
    "from sklearn.feature_extraction.text import TfidfVectorizer, CountVectorizer\n",
    "\n",
    "from scipy.sparse.linalg import svds as SVDS\n",
    "from scipy.spatial.distance import pdist\n",
    "from scipy.spatial.distance import squareform\n",
    "from sklearn.manifold import TSNE\n",
    "from sklearn.metrics.pairwise import distance_metrics \n",
    "from sklearn.metrics.pairwise import pairwise_distances\n",
    "import seaborn as sns\n",
    "\n",
    "%matplotlib inline"
   ]
  },
  {
   "cell_type": "markdown",
   "metadata": {},
   "source": [
    "Let's pretend we have 7 sentences to compare.  For simplicity let's assume that I've already removed stop words.  The original sentences could be.  \n",
    "```\n",
    "The bacon egg and cheese was there. \n",
    "\n",
    "Bacon goes well with egg and cheese. \n",
    "\n",
    "Bacon is not cheese.  \n",
    "\n",
    "There are books about cheese.\n",
    "\n",
    "I read books about cheese. \n",
    "\n",
    "I read books. \n",
    "\n",
    "You read books. \n",
    "```"
   ]
  },
  {
   "cell_type": "markdown",
   "metadata": {},
   "source": [
    "Removing stop words plus a few to keep things simple for us.  "
   ]
  },
  {
   "cell_type": "code",
   "execution_count": 2,
   "metadata": {
    "collapsed": true
   },
   "outputs": [],
   "source": [
    "tweets = [\n",
    "    \"bacon egg cheese\",\n",
    "    \"bacon egg cheese\",\n",
    "    \"bacon cheese\",\n",
    "    \"books read\",\n",
    "    \"books\",\n",
    "    \"books read\",\n",
    "    \"cheese books read\", \n",
    "]"
   ]
  },
  {
   "cell_type": "markdown",
   "metadata": {},
   "source": [
    "###### Let's turn it into Term Document matrix format.  "
   ]
  },
  {
   "cell_type": "code",
   "execution_count": 66,
   "metadata": {
    "collapsed": false
   },
   "outputs": [],
   "source": [
    "a = np.array([[1, 1, 1, 0, 0],\n",
    "             [1, 1, 1, 0, 0],\n",
    "             [1, 0, 1, 0, 0],\n",
    "             [0, 0, 0, 1, 1],\n",
    "             [0, 0, 0, 1, 0],\n",
    "             [0, 0, 0, 1, 1],\n",
    "             [0, 0, 1, 1, 1.01]])"
   ]
  },
  {
   "cell_type": "code",
   "execution_count": 69,
   "metadata": {
    "collapsed": false
   },
   "outputs": [],
   "source": [
    "docs, eigen_roots, terms_T = SVDS(a, k=2)"
   ]
  },
  {
   "cell_type": "markdown",
   "metadata": {},
   "source": [
    "##### Singular Value Decomposition"
   ]
  },
  {
   "cell_type": "markdown",
   "metadata": {},
   "source": [
    "Now the documents are expressed in terms of frequencies of principal components.  But what are those principal components?  \n",
    "\n",
    "Each of them (two vectors (columns)) are some linear combination of vectors that were from the original matrix.  "
   ]
  },
  {
   "cell_type": "code",
   "execution_count": 98,
   "metadata": {
    "collapsed": false
   },
   "outputs": [
    {
     "data": {
      "text/plain": [
       "[{u'bacon': -0.28018005933373846,\n",
       "  u'books': -0.21409652622174102,\n",
       "  u'cheese': 0.55190913485223669,\n",
       "  u'egg': 0.65600340266150492,\n",
       "  u'read': -0.37512351882374495},\n",
       " {u'bacon': 0.3492816987078497,\n",
       "  u'books': 0.64009199656697879,\n",
       "  u'cheese': 0.32175304837689683,\n",
       "  u'egg': 0.36328165125375023,\n",
       "  u'read': 0.48247896182235828}]"
      ]
     },
     "execution_count": 98,
     "metadata": {},
     "output_type": "execute_result"
    }
   ],
   "source": [
    "list_of_concepts = []\n",
    "for principal_component in terms_T:\n",
    "    concept_dict = {}\n",
    "    for index, j in enumerate(principal_component):\n",
    "        concept_dict[vectorizer.vocabulary_.keys()[index]] = j\n",
    "    list_of_concepts.append(concept_dict)\n",
    "list_of_concepts"
   ]
  },
  {
   "cell_type": "markdown",
   "metadata": {},
   "source": [
    "##### Let's convert this list of dictionaries back into a matrix with columns and rows that we can understand.  "
   ]
  },
  {
   "cell_type": "code",
   "execution_count": 87,
   "metadata": {
    "collapsed": false
   },
   "outputs": [
    {
     "data": {
      "text/plain": [
       "array([[-0.34899038,  0.50699665],\n",
       "       [-0.34899038,  0.50699665],\n",
       "       [-0.23652186,  0.38668253],\n",
       "       [ 0.4848744 ,  0.23596811],\n",
       "       [ 0.26332971,  0.12513656],\n",
       "       [ 0.4848744 ,  0.23596811],\n",
       "       [ 0.40114826,  0.45756351]])"
      ]
     },
     "execution_count": 87,
     "metadata": {},
     "output_type": "execute_result"
    }
   ],
   "source": [
    "docs"
   ]
  },
  {
   "cell_type": "markdown",
   "metadata": {},
   "source": [
    "##### Similarity between two documents"
   ]
  },
  {
   "cell_type": "code",
   "execution_count": 97,
   "metadata": {
    "collapsed": false
   },
   "outputs": [
    {
     "data": {
      "text/plain": [
       "array([ 0.76311482])"
      ]
     },
     "execution_count": 97,
     "metadata": {},
     "output_type": "execute_result"
    }
   ],
   "source": [
    "1 - pdist((docs[3, :],docs[6, :]))"
   ]
  },
  {
   "cell_type": "markdown",
   "metadata": {},
   "source": [
    "##### Lastly, what's the point of all of this if we don't use it to compare similarity of documents?  "
   ]
  },
  {
   "cell_type": "code",
   "execution_count": 83,
   "metadata": {
    "collapsed": false
   },
   "outputs": [],
   "source": [
    "a_quiver = np.concatenate((np.array([[0, 0],[0,0],[0,0],[0,0], [0,0], [0,0], [0,0]]), docs),axis=1)"
   ]
  },
  {
   "cell_type": "code",
   "execution_count": 88,
   "metadata": {
    "collapsed": false
   },
   "outputs": [
    {
     "data": {
      "image/png": "[encoded data removed]",
      "text/plain": [
       "<matplotlib.figure.Figure at 0x118600cd0>"
      ]
     },
     "metadata": {},
     "output_type": "display_data"
    }
   ],
   "source": [
    "import numpy as np\n",
    "import matplotlib.pyplot as plt\n",
    "\n",
    "soa = a_quiver\n",
    "X,Y,U,V = zip(*soa)\n",
    "plt.figure(figsize=(10,10))\n",
    "ax = plt.gca()\n",
    "ax.quiver(X,Y,U,V,angles='xy',scale_units='xy',scale=1)\n",
    "ax.set_xlim([-1,1])\n",
    "ax.set_ylim([-1,1])\n",
    "plt.draw()\n",
    "plt.show()"
   ]
  },
  {
   "cell_type": "code",
   "execution_count": 65,
   "metadata": {
    "collapsed": false
   },
   "outputs": [
    {
     "data": {
      "image/png": "[encoded data removed]",
      "text/plain": [
       "<matplotlib.figure.Figure at 0x118541450>"
      ]
     },
     "metadata": {},
     "output_type": "display_data"
    }
   ],
   "source": [
    "plt.figure(figsize= (10, 10))\n",
    "plt.imshow(pairwise_distances(docs, metric='cosine'), interpolation='nearest')\n",
    "plt.savefig('cosine_similarity_bacon_books.png')\n",
    "plt.show()"
   ]
  },
  {
   "cell_type": "code",
   "execution_count": null,
   "metadata": {
    "collapsed": true
   },
   "outputs": [],
   "source": []
  },
  {
   "cell_type": "code",
   "execution_count": null,
   "metadata": {
    "collapsed": true
   },
   "outputs": [],
   "source": []
  },
  {
   "cell_type": "code",
   "execution_count": null,
   "metadata": {
    "collapsed": true
   },
   "outputs": [],
   "source": []
  },
  {
   "cell_type": "code",
   "execution_count": null,
   "metadata": {
    "collapsed": true
   },
   "outputs": [],
   "source": []
  },
  {
   "cell_type": "code",
   "execution_count": null,
   "metadata": {
    "collapsed": true
   },
   "outputs": [],
   "source": []
  },
  {
   "cell_type": "code",
   "execution_count": null,
   "metadata": {
    "collapsed": true
   },
   "outputs": [],
   "source": []
  },
  {
   "cell_type": "code",
   "execution_count": null,
   "metadata": {
    "collapsed": true
   },
   "outputs": [],
   "source": []
  },
  {
   "cell_type": "code",
   "execution_count": null,
   "metadata": {
    "collapsed": true
   },
   "outputs": [],
   "source": []
  }
 ],
 "metadata": {
  "kernelspec": {
   "display_name": "Python 2",
   "language": "python",
   "name": "python2"
  },
  "language_info": {
   "codemirror_mode": {
    "name": "ipython",
    "version": 2
   },
   "file_extension": ".py",
   "mimetype": "text/x-python",
   "name": "python",
   "nbconvert_exporter": "python",
   "pygments_lexer": "ipython2",
   "version": "2.7.11"
  }
 },
 "nbformat": 4,
 "nbformat_minor": 0
}
